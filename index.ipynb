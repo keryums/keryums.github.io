{
 "cells": [
  {
   "cell_type": "markdown",
   "metadata": {
    "ExecuteTime": {
     "end_time": "2019-10-10T17:57:07.072803Z",
     "start_time": "2019-10-10T17:57:07.068632Z"
    }
   },
   "source": [
    "This is a jupyter notebook-based Markdown doc "
   ]
  },
  {
   "cell_type": "markdown",
   "metadata": {},
   "source": [
    "Hi, I have nothing interesting to say but [here](https://www.hashimotocontemporary.com/artists/27-laura-berger/overview/)'s a link to some work by Laura Berger, who I love right now."
   ]
  },
  {
   "cell_type": "markdown",
   "metadata": {},
   "source": [
    "[Here](another-nb.ipynb) is a link to a notebook in this repo \n",
    "\n",
    "[Here](https://github.com/keryums/projects/blob/master/is_grad_school_making_me_fat.ipynb)\n",
    " is a link to a notebook not in this repo \n"
   ]
  },
  {
   "cell_type": "markdown",
   "metadata": {},
   "source": [
    "Below's a comic I'm also enjoying:\n",
    "\n",
    "![](lady_no_kids.jpg)"
   ]
  },
  {
   "cell_type": "markdown",
   "metadata": {},
   "source": [
    "Ok guhbye! "
   ]
  }
 ],
 "metadata": {
  "kernelspec": {
   "display_name": "Python 3",
   "language": "python",
   "name": "python3"
  },
  "language_info": {
   "codemirror_mode": {
    "name": "ipython",
    "version": 3
   },
   "file_extension": ".py",
   "mimetype": "text/x-python",
   "name": "python",
   "nbconvert_exporter": "python",
   "pygments_lexer": "ipython3",
   "version": "3.6.7"
  },
  "toc": {
   "base_numbering": 1,
   "nav_menu": {},
   "number_sections": true,
   "sideBar": true,
   "skip_h1_title": false,
   "title_cell": "Table of Contents",
   "title_sidebar": "Contents",
   "toc_cell": false,
   "toc_position": {},
   "toc_section_display": true,
   "toc_window_display": false
  }
 },
 "nbformat": 4,
 "nbformat_minor": 2
}
