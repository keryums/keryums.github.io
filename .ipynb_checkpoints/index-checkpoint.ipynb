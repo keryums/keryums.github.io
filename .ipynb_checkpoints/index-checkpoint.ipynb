{
 "cells": [
  {
   "cell_type": "markdown",
   "metadata": {},
   "source": [
    "Hi Davi! "
   ]
  },
  {
   "cell_type": "markdown",
   "metadata": {
    "ExecuteTime": {
     "end_time": "2019-10-10T17:57:07.072803Z",
     "start_time": "2019-10-10T17:57:07.068632Z"
    }
   },
   "source": [
    "This is a jupyter notebook-based Markdown doc \n",
    "\n",
    "`$ jupyter nbconvert --to html index.ipynb` converts `index.ipynb` to an HTML file named `index.html`. Alternatively, you can write your own custom html in a file named the same. Below are examples of how to link to various things: "
   ]
  },
  {
   "cell_type": "markdown",
   "metadata": {},
   "source": [
    "[Here](https://www.hashimotocontemporary.com/artists/27-laura-berger/overview/)'s a link to some work by Laura Berger, who I love right now.\n",
    "\n",
    "[Here](https://github.com/keryums/keryums.github.io/blob/master/another-nb.ipynb) is a link to a notebook in this repo. (Note that unlike in a .MD doc, even though this nb is in the same repo, you have to use the full weblink in a html page otherwise clicking on the link downloads the notebook.) \n",
    "\n",
    "[Here](https://github.com/keryums/projects/blob/master/is_grad_school_making_me_fat.ipynb)'s a link to a notebook not in this repo \n",
    "\n",
    "And [here](page-two.html) is a link to another html page...."
   ]
  },
  {
   "cell_type": "markdown",
   "metadata": {},
   "source": [
    "Below is a comic I'm also enjoying:\n",
    "\n",
    "![](lady_no_kids.jpg)"
   ]
  },
  {
   "cell_type": "markdown",
   "metadata": {},
   "source": [
    "Ok guhbye! "
   ]
  }
 ],
 "metadata": {
  "kernelspec": {
   "display_name": "Python 3",
   "language": "python",
   "name": "python3"
  },
  "language_info": {
   "codemirror_mode": {
    "name": "ipython",
    "version": 3
   },
   "file_extension": ".py",
   "mimetype": "text/x-python",
   "name": "python",
   "nbconvert_exporter": "python",
   "pygments_lexer": "ipython3",
   "version": "3.6.7"
  },
  "toc": {
   "base_numbering": 1,
   "nav_menu": {},
   "number_sections": true,
   "sideBar": true,
   "skip_h1_title": false,
   "title_cell": "Table of Contents",
   "title_sidebar": "Contents",
   "toc_cell": false,
   "toc_position": {},
   "toc_section_display": true,
   "toc_window_display": false
  }
 },
 "nbformat": 4,
 "nbformat_minor": 2
}
